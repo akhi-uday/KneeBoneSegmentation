{
  "nbformat": 4,
  "nbformat_minor": 0,
  "metadata": {
    "colab": {
      "provenance": [],
      "include_colab_link": true
    },
    "kernelspec": {
      "name": "python3",
      "display_name": "Python 3"
    },
    "language_info": {
      "name": "python"
    },
    "accelerator": "GPU"
  },
  "cells": [
    {
      "cell_type": "markdown",
      "metadata": {
        "id": "view-in-github",
        "colab_type": "text"
      },
      "source": [
        "<a href=\"https://colab.research.google.com/github/akhi-uday/KneeBoneSegmentation/blob/main/DualChannelUnet.ipynb\" target=\"_parent\"><img src=\"https://colab.research.google.com/assets/colab-badge.svg\" alt=\"Open In Colab\"/></a>"
      ]
    },
    {
      "cell_type": "code",
      "metadata": {
        "id": "76PINVTjkUrA",
        "colab": {
          "base_uri": "https://localhost:8080/"
        },
        "outputId": "846da190-2ed5-493e-95db-03943010aa1d"
      },
      "source": [
        "import os\n",
        "import sys\n",
        "import random\n",
        "\n",
        "import numpy as np\n",
        "import cv2\n",
        "import matplotlib.pyplot as plt\n",
        "\n",
        "import tensorflow as tf\n",
        "from tensorflow import keras\n",
        "from keras import *\n",
        "from keras.preprocessing.image import ImageDataGenerator\t\n",
        "\n",
        "\n",
        "seed = 4446\n",
        "random.seed = seed\n",
        "np.random.seed = seed\n",
        "tf.seed = seed\n",
        "\n",
        "! pip install keras"
      ],
      "execution_count": null,
      "outputs": [
        {
          "output_type": "stream",
          "name": "stdout",
          "text": [
            "Looking in indexes: https://pypi.org/simple, https://us-python.pkg.dev/colab-wheels/public/simple/\n",
            "Requirement already satisfied: keras in /usr/local/lib/python3.7/dist-packages (2.8.0)\n"
          ]
        }
      ]
    },
    {
      "cell_type": "code",
      "metadata": {
        "id": "urU-c9DgsHei"
      },
      "source": [],
      "execution_count": null,
      "outputs": []
    },
    {
      "cell_type": "code",
      "metadata": {
        "id": "Pn3YTWCUhx5c",
        "colab": {
          "base_uri": "https://localhost:8080/"
        },
        "outputId": "7abe3c11-efe9-4956-c627-fcafad495016"
      },
      "source": [
        "from google.colab import drive\n",
        "drive.mount('/content/drive')"
      ],
      "execution_count": null,
      "outputs": [
        {
          "output_type": "stream",
          "name": "stdout",
          "text": [
            "Mounted at /content/drive\n"
          ]
        }
      ]
    },
    {
      "cell_type": "code",
      "metadata": {
        "id": "5IMP6oLr88FQ"
      },
      "source": [
        "def get_data(path,id_name):\n",
        "        image_size = 384\n",
        "        image_path = os.path.join(path, \"image\",id_name)\n",
        "        mask_path = os.path.join(path, \"mask\",id_name).replace(\".jpeg\",\"_mask.png\")\n",
        "        \n",
        "        \n",
        "        image = cv2.imread(image_path, 1)\n",
        "        image = cv2.resize(image, (image_size, image_size),interpolation=cv2.INTER_AREA)\n",
        "        \n",
        "        mask = np.zeros((image_size, image_size, 1))\n",
        "        \n",
        "        \n",
        "        _mask_image = cv2.imread(mask_path, -1)\n",
        "        _mask_image = cv2.resize(_mask_image, (image_size, image_size)) \n",
        "        _mask_image = np.expand_dims(_mask_image, axis=-1)\n",
        "        mask = np.maximum(mask, _mask_image)\n",
        "            \n",
        "        \n",
        "        image = image/255.0\n",
        "        mask = mask/255.0\n",
        "        \n",
        "        return image ,mask\n",
        "\n",
        "def gen_dataset(path):\n",
        "  images = next(os.walk(path+\"/image\"))[2]\n",
        "  X = []\n",
        "  y = []\n",
        "  for img in images:\n",
        "    i,m = get_data(path,img)\n",
        "    X.append(i)\n",
        "    y.append(m)\n",
        "  return np.array(X),np.array(y)\n",
        "  "
      ],
      "execution_count": null,
      "outputs": []
    },
    {
      "cell_type": "code",
      "metadata": {
        "id": "fA6ZSF9skbPU"
      },
      "source": [
        "image_size = 384\n",
        "path = \"drive/MyDrive/data/train\"\n",
        "train_img_path = \"drive/MyDrive/data/train/image\"\n",
        "train_msk_path = \"drive/MyDrive/data/train/mask\"\n",
        "epochs = 5\n",
        "batch_size = 8\n",
        "\n",
        "\n",
        "train_img = next(os.walk(train_img_path))[2]\n",
        "train_mask = next(os.walk(train_msk_path))[2]\n",
        "# train_ids\n",
        "\n",
        "val_data_size = 10\n",
        "\n",
        "valid_img = next(os.walk(\"drive/MyDrive/data/val/image\"))[2]\n",
        "valid_mask = next(os.walk(\"drive/MyDrive/data/val/mask\"))[2]\n",
        "# valid_img"
      ],
      "execution_count": null,
      "outputs": []
    },
    {
      "cell_type": "code",
      "metadata": {
        "id": "Xu6dSaib0N7s"
      },
      "source": [
        "import numpy as np \n",
        "from keras.layers import Conv2D, MaxPooling2D,MaxPool2D,UpSampling2D,BatchNormalization, Dropout,Conv2DTranspose,concatenate,Lambda\n",
        "from keras.models import Sequential,Model,Input,load_model\n",
        "from tensorflow.keras.optimizers import Adam\n",
        "\n",
        "def dcunet():\n",
        "\n",
        "    kernel_size = (3,3)\n",
        "    t_kernel_size = (2,2)\n",
        "    pool = (2,2)\n",
        "    act = 'relu'\n",
        "    lastact = 'sigmoid'\n",
        "    pad = 'same'\n",
        "    init = 'he_normal'\n",
        "    learning_rate = 1e-5\n",
        "    loss_fn = 'binary_crossentropy'\n",
        "\n",
        "\n",
        "    shape = Input((384,384,3))\n",
        "\n",
        "    dc1 = Conv2D(8,kernel_size=kernel_size,activation=act,padding=pad,kernel_initializer=init)(shape)\n",
        "    dc1 = Conv2D(17,kernel_size=kernel_size,activation=act,padding=pad,kernel_initializer=init)(dc1)\n",
        "    dc1 = Conv2D(26,kernel_size=kernel_size,activation=act,padding=pad,kernel_initializer=init)(dc1)\n",
        "    rp1 = Conv2D(32,kernel_size=(3,3),activation=act,padding=pad)(dc1)\n",
        "    rp1 = Conv2D(32,kernel_size=(1,1),activation=act,padding=pad)(rp1)\n",
        "    rp1 = Conv2D(32,kernel_size=(3,3),activation=act,padding=pad)(rp1)\n",
        "    rp1 = Conv2D(32,kernel_size=(1,1),activation=act,padding=pad)(rp1)\n",
        "    rp1 = Conv2D(32,kernel_size=(3,3),activation=act,padding=pad)(rp1)\n",
        "    rp1 = Conv2D(32,kernel_size=(1,1),activation=act,padding=pad)(rp1)\n",
        "    rp1 = Conv2D(32,kernel_size=(3,3),activation=act,padding=pad)(rp1)\n",
        "    rp1 = Conv2D(32,kernel_size=(1,1),activation=act,padding=pad)(rp1)\n",
        "    pool1 = MaxPooling2D(pool)(dc1)\n",
        "    drop1 = Dropout(0.5)(pool1)\n",
        "\n",
        "\n",
        "    dc2 = Conv2D(17,kernel_size=kernel_size,activation=act,padding=pad)(drop1)\n",
        "    dc2 = Conv2D(35,kernel_size=kernel_size,activation=act,padding=pad)(dc2)\n",
        "    dc2 = Conv2D(53,kernel_size=kernel_size,activation=act,padding=pad)(dc2)\n",
        "    rp2 = Conv2D(64,kernel_size=(3,3),activation=act,padding=pad)(dc2)\n",
        "    rp2 = Conv2D(64,kernel_size=(1,1),activation=act,padding=pad)(rp2)\n",
        "    rp2 = Conv2D(64,kernel_size=(3,3),activation=act,padding=pad)(rp2)\n",
        "    rp2 = Conv2D(64,kernel_size=(1,1),activation=act,padding=pad)(rp2)\n",
        "    rp2 = Conv2D(64,kernel_size=(3,3),activation=act,padding=pad)(rp2)\n",
        "    rp2 = Conv2D(64,kernel_size=(1,1),activation=act,padding=pad)(rp2)\n",
        "    pool2 = MaxPooling2D(pool)(dc2)\n",
        "    drop2 = Dropout(0.5)(pool2)\n",
        "\n",
        "    dc3 = Conv2D(35,kernel_size=kernel_size,activation=act,padding=pad)(drop2)\n",
        "    dc3 = Conv2D(17,kernel_size=kernel_size,activation=act,padding=pad)(dc3)\n",
        "    dc3 = Conv2D(106,kernel_size=kernel_size,activation=act,padding=pad)(dc3)\n",
        "    rp3 = Conv2D(128,kernel_size=(3,3),activation=act,padding=pad)(dc3)\n",
        "    rp3 = Conv2D(128,kernel_size=(1,1),activation=act,padding=pad)(rp3)\n",
        "    rp3 = Conv2D(128,kernel_size=(3,3),activation=act,padding=pad)(rp3)\n",
        "    rp3 = Conv2D(128,kernel_size=(1,1),activation=act,padding=pad)(rp3)\n",
        "    pool3 = MaxPooling2D(pool)(dc3)\n",
        "    drop3 = Dropout(0.5)(pool3)\n",
        "\n",
        "    dc4 = Conv2D(71,kernel_size=kernel_size,activation=act,padding=pad)(drop3)\n",
        "    dc4 = Conv2D(142,kernel_size=kernel_size,activation=act,padding=pad)(dc4)\n",
        "    dc4 = Conv2D(213,kernel_size=kernel_size,activation=act,padding=pad)(dc4)\n",
        "    rp4 = Conv2D(256,kernel_size=(3,3),activation=act,padding=pad)(dc4)\n",
        "    rp4 = Conv2D(256,kernel_size=(1,1),activation=act,padding=pad)(rp4)\n",
        "    pool4 = MaxPooling2D(pool)(dc4)\n",
        "    drop4 = Dropout(0.5)(pool4)\n",
        "\n",
        "    dc5 = Conv2D(142,kernel_size=kernel_size,activation=act,padding=pad)(drop4)\n",
        "    dc5 = Conv2D(284,kernel_size=kernel_size,activation=act,padding=pad)(dc5)\n",
        "    dc5 = Conv2D(427,kernel_size=kernel_size,activation=act,padding=pad)(dc5)\n",
        "\n",
        "\n",
        "    dc6 = Conv2DTranspose(256,kernel_size=t_kernel_size,strides=(2, 2),activation=act,padding=pad)(dc5)\n",
        "    merge6= concatenate([rp4,dc6], axis = 3)\n",
        "    merge6= Dropout(0.5)(merge6)\n",
        "    dc6 = Conv2D(213,kernel_size=kernel_size,activation=act,padding=pad)(merge6)\n",
        "    dc6 = Conv2D(142,kernel_size=kernel_size,activation=act,padding=pad)(dc6)\n",
        "    dc6 = Conv2D(71,kernel_size=kernel_size,activation=act,padding=pad)(dc6)\n",
        "\n",
        "    dc7 = Conv2DTranspose(128,kernel_size=kernel_size,strides=(2, 2),activation=act,padding=pad)(dc6)\n",
        "    merge7= concatenate([rp3,dc7], axis = 3)\n",
        "    merge7= Dropout(0.5)(merge7)\n",
        "    dc7 = Conv2D(106,kernel_size=kernel_size,activation=act,padding=pad)(merge7)\n",
        "    dc7 = Conv2D(71,kernel_size=kernel_size,activation=act,padding=pad)(dc7)\n",
        "    dc7 = Conv2D(35,kernel_size=kernel_size,activation=act,padding=pad)(dc7)\n",
        "\n",
        "    dc8 = Conv2DTranspose(64,kernel_size=kernel_size,strides=(2, 2),activation=act,padding=pad)(dc7)\n",
        "    merge8= concatenate([rp2,dc8], axis = 3)\n",
        "    merge8= Dropout(0.5)(merge8)\n",
        "    dc8 = Conv2D(53,kernel_size=kernel_size,activation=act,padding=pad)(merge8)\n",
        "    dc8 = Conv2D(35,kernel_size=kernel_size,activation=act,padding=pad)(dc8)\n",
        "    dc8 = Conv2D(17,kernel_size=kernel_size,activation=act,padding=pad)(dc8)\n",
        "\n",
        "    dc9 = Conv2DTranspose(32,kernel_size=kernel_size,strides=(2, 2),activation=act,padding=pad)(dc8)\n",
        "    merge = concatenate([rp1,dc9], axis = 3)\n",
        "    merge = Dropout(0.5)(merge)\n",
        "    dc9 = Conv2D(26,kernel_size=kernel_size,activation=act,padding=pad)(merge)\n",
        "    dc9 = Conv2D(17,kernel_size=kernel_size,activation=act,padding=pad)(dc9)\n",
        "    dc9 = Conv2D(8,kernel_size=kernel_size,activation=act,padding=pad)(dc9)\n",
        "    output = Conv2D(1,kernel_size=(1,1),activation=lastact,padding=pad)(dc9)\n",
        "\n",
        "    model = Model(inputs=shape,outputs=output)\n",
        "\n",
        "    model.compile(optimizer=Adam(lr=learning_rate),loss=loss_fn,metrics=['accuracy'])\n",
        "\n",
        "    return model\n",
        "\n",
        "\n"
      ],
      "execution_count": null,
      "outputs": []
    },
    {
      "cell_type": "code",
      "metadata": {
        "id": "nEpHANGIvk3M",
        "colab": {
          "base_uri": "https://localhost:8080/"
        },
        "outputId": "8924b69b-134d-466e-f6a2-0eaa41c7912e"
      },
      "source": [
        "model = dcunet()\n",
        "model.compile(optimizer=\"adam\", loss=\"binary_crossentropy\", metrics=[\"acc\"])"
      ],
      "execution_count": null,
      "outputs": [
        {
          "output_type": "stream",
          "name": "stderr",
          "text": [
            "/usr/local/lib/python3.7/dist-packages/keras/optimizer_v2/adam.py:105: UserWarning: The `lr` argument is deprecated, use `learning_rate` instead.\n",
            "  super(Adam, self).__init__(name, **kwargs)\n"
          ]
        }
      ]
    },
    {
      "cell_type": "code",
      "metadata": {
        "id": "x3Xp4RDpvnQU",
        "colab": {
          "base_uri": "https://localhost:8080/"
        },
        "outputId": "eb67c62d-605c-41f6-f413-5fb87f139a16"
      },
      "source": [
        "x_train,y_train = gen_dataset(\"drive/MyDrive/data/train\")\n",
        "x_val,y_val = gen_dataset(\"drive/MyDrive/data/val\")\n",
        "print(len(x_train))\n",
        "\n",
        "\n",
        "\n",
        "history = model.fit(x_train,y_train, batch_size=8, epochs=25)"
      ],
      "execution_count": null,
      "outputs": [
        {
          "output_type": "stream",
          "name": "stdout",
          "text": [
            "47\n",
            "Epoch 1/25\n",
            "6/6 [==============================] - 4s 688ms/step - loss: 0.3990 - acc: 0.8236\n",
            "Epoch 2/25\n",
            "6/6 [==============================] - 4s 682ms/step - loss: 0.4090 - acc: 0.8161\n",
            "Epoch 3/25\n",
            "6/6 [==============================] - 4s 685ms/step - loss: 0.3908 - acc: 0.8275\n",
            "Epoch 4/25\n",
            "6/6 [==============================] - 4s 692ms/step - loss: 0.3890 - acc: 0.8275\n",
            "Epoch 5/25\n",
            "6/6 [==============================] - 4s 694ms/step - loss: 0.3997 - acc: 0.8207\n",
            "Epoch 6/25\n",
            "6/6 [==============================] - 4s 680ms/step - loss: 0.3951 - acc: 0.8306\n",
            "Epoch 7/25\n",
            "6/6 [==============================] - 4s 671ms/step - loss: 0.3934 - acc: 0.8311\n",
            "Epoch 8/25\n",
            "6/6 [==============================] - 4s 669ms/step - loss: 0.3910 - acc: 0.8228\n",
            "Epoch 9/25\n",
            "6/6 [==============================] - 4s 660ms/step - loss: 0.3955 - acc: 0.8192\n",
            "Epoch 10/25\n",
            "6/6 [==============================] - 4s 658ms/step - loss: 0.3856 - acc: 0.8312\n",
            "Epoch 11/25\n",
            "6/6 [==============================] - 4s 653ms/step - loss: 0.3849 - acc: 0.8278\n",
            "Epoch 12/25\n",
            "6/6 [==============================] - 4s 652ms/step - loss: 0.3958 - acc: 0.8262\n",
            "Epoch 13/25\n",
            "6/6 [==============================] - 4s 653ms/step - loss: 0.3908 - acc: 0.8241\n",
            "Epoch 14/25\n",
            "6/6 [==============================] - 4s 653ms/step - loss: 0.3802 - acc: 0.8366\n",
            "Epoch 15/25\n",
            "6/6 [==============================] - 4s 653ms/step - loss: 0.3822 - acc: 0.8273\n",
            "Epoch 16/25\n",
            "6/6 [==============================] - 4s 652ms/step - loss: 0.3738 - acc: 0.8345\n",
            "Epoch 17/25\n",
            "6/6 [==============================] - 4s 654ms/step - loss: 0.3812 - acc: 0.8303\n",
            "Epoch 18/25\n",
            "6/6 [==============================] - 4s 653ms/step - loss: 0.3723 - acc: 0.8357\n",
            "Epoch 19/25\n",
            "6/6 [==============================] - 4s 657ms/step - loss: 0.3736 - acc: 0.8342\n",
            "Epoch 20/25\n",
            "6/6 [==============================] - 4s 658ms/step - loss: 0.3731 - acc: 0.8349\n",
            "Epoch 21/25\n",
            "6/6 [==============================] - 4s 663ms/step - loss: 0.3715 - acc: 0.8372\n",
            "Epoch 22/25\n",
            "6/6 [==============================] - 4s 666ms/step - loss: 0.3748 - acc: 0.8318\n",
            "Epoch 23/25\n",
            "6/6 [==============================] - 4s 667ms/step - loss: 0.3682 - acc: 0.8408\n",
            "Epoch 24/25\n",
            "6/6 [==============================] - 4s 666ms/step - loss: 0.3884 - acc: 0.8292\n",
            "Epoch 25/25\n",
            "6/6 [==============================] - 4s 664ms/step - loss: 0.3760 - acc: 0.8342\n"
          ]
        }
      ]
    },
    {
      "cell_type": "code",
      "metadata": {
        "id": "48f_gXISwoGU"
      },
      "source": [
        "dice=0\n",
        "def get_test_data(path,name):\n",
        "  # print(path)\n",
        "  image = cv2.imread(path+\"image/\"+name, 1)\n",
        "  image = cv2.resize(image, (384, 384),interpolation=cv2.INTER_AREA)\n",
        "  image = image/255.0\n",
        "  # image = np.asarray(image)\n",
        "  # \n",
        "  mask = np.zeros((384, 384, 1))\n",
        "\n",
        "  _mask_image = cv2.imread(path+\"mask/\"+name.replace(\".jpeg\",\"_mask.png\"), -1)\n",
        "  \n",
        "  _mask_image = cv2.resize(_mask_image, (384, 384)) \n",
        "  _mask_image = np.expand_dims(_mask_image, axis=-1)\n",
        "  mask = np.maximum(mask, _mask_image)\n",
        "  mask=mask/255.0\n",
        "  return image,mask\n",
        "  "
      ],
      "execution_count": null,
      "outputs": []
    },
    {
      "cell_type": "code",
      "metadata": {
        "id": "xx0y87G-XylQ",
        "colab": {
          "base_uri": "https://localhost:8080/",
          "height": 269
        },
        "outputId": "76091969-e978-469a-ac77-8897e0316882"
      },
      "source": [
        "%matplotlib inline\n",
        "dice=0\n",
        "from PIL import Image\n",
        "c=12\n",
        "pixel_acc=0\n",
        "for img in train_img:\n",
        "  image,mask = get_test_data(\"drive/MyDrive/data/train/\",img)\n",
        "  result = model.predict(np.array([image]))\n",
        "  result = result > 0.33\n",
        "  pixel_acc += (result==mask).sum()\n",
        "  pixel_acc/=(384*384)\n",
        "\n",
        "  dice += (2 *(result*mask).sum())/((result+mask).sum() + 1e-8)\n",
        "  # if not c:\n",
        "  plt.imshow(np.reshape(result[0]*255, (384, 384)), cmap=\"gray\")\n",
        "  # c+=1"
      ],
      "execution_count": null,
      "outputs": [
        {
          "output_type": "display_data",
          "data": {
            "text/plain": [
              "<Figure size 432x288 with 1 Axes>"
            ],
            "image/png": "[encoded data removed]"
          },
          "metadata": {
            "needs_background": "light"
          }
        }
      ]
    },
    {
      "cell_type": "code",
      "metadata": {
        "id": "f-hSETnyKi30"
      },
      "source": [
        "print(f\"DICE SCORE: {dice/len(train_img)}\")"
      ],
      "execution_count": null,
      "outputs": []
    },
    {
      "cell_type": "code",
      "metadata": {
        "id": "tR3ujyiJq1Hw"
      },
      "source": [
        "print(f\"PIXEL ERROR: {pixel_acc/c}\")"
      ],
      "execution_count": null,
      "outputs": []
    },
    {
      "cell_type": "code",
      "metadata": {
        "id": "tfOsa9nOus_B"
      },
      "source": [],
      "execution_count": null,
      "outputs": []
    }
  ]
}